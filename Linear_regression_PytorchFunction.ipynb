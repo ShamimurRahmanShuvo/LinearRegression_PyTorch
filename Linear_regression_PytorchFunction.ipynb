{
 "cells": [
  {
   "cell_type": "code",
   "execution_count": 6,
   "metadata": {
    "id": "3d5z2q-pQ9TH"
   },
   "outputs": [],
   "source": [
    "import torch.nn as nn\n",
    "import numpy as np\n",
    "import torch"
   ]
  },
  {
   "cell_type": "code",
   "execution_count": 7,
   "metadata": {
    "id": "NUqH17alRGTC"
   },
   "outputs": [],
   "source": [
    "#Training and testing data\n",
    "inputs = np.array([[73, 67, 43],\n",
    "                   [91, 88, 64],\n",
    "                   [87, 134, 58],\n",
    "                   [102, 43, 37],\n",
    "                   [69, 96, 70],\n",
    "                   [74, 66, 43],\n",
    "                   [91, 87, 65],\n",
    "                   [88, 134, 59],\n",
    "                   [101, 44, 37],\n",
    "                   [68, 96, 71],\n",
    "                   [73, 66, 44],\n",
    "                   [92, 87, 64],\n",
    "                   [87, 135, 57],\n",
    "                   [103, 43, 36],\n",
    "                   [68, 97, 70]], dtype = 'float32')\n",
    "targets = np.array([[56, 70],\n",
    "                    [81, 101],\n",
    "                    [119, 133],\n",
    "                    [22, 37],\n",
    "                    [103, 119],\n",
    "                    [57, 69],\n",
    "                    [80, 102],\n",
    "                    [118, 132],\n",
    "                    [21, 38],\n",
    "                    [104, 118],\n",
    "                    [57, 69],\n",
    "                    [82, 100],\n",
    "                    [118, 134],\n",
    "                    [20, 38],\n",
    "                    [102, 120]], dtype = 'float32')"
   ]
  },
  {
   "cell_type": "code",
   "execution_count": 8,
   "metadata": {
    "id": "Cy_doeJOTDLo"
   },
   "outputs": [],
   "source": [
    "inputs = torch.from_numpy(inputs)\n",
    "targets = torch.from_numpy(targets)"
   ]
  },
  {
   "cell_type": "code",
   "execution_count": 9,
   "metadata": {
    "id": "0obrqYnfTU4G"
   },
   "outputs": [],
   "source": [
    "from torch.utils.data import TensorDataset"
   ]
  },
  {
   "cell_type": "code",
   "execution_count": 10,
   "metadata": {
    "colab": {
     "base_uri": "https://localhost:8080/"
    },
    "id": "ta0IS4rpT2SS",
    "outputId": "0ad99262-9632-498e-dcf1-b34382ce3d1a"
   },
   "outputs": [
    {
     "data": {
      "text/plain": [
       "(tensor([[ 73.,  67.,  43.],\n",
       "         [ 91.,  88.,  64.],\n",
       "         [ 87., 134.,  58.]]), tensor([[ 56.,  70.],\n",
       "         [ 81., 101.],\n",
       "         [119., 133.]]))"
      ]
     },
     "execution_count": 10,
     "metadata": {},
     "output_type": "execute_result"
    }
   ],
   "source": [
    "#Define Dataset\n",
    "train_ds = TensorDataset(inputs, targets)\n",
    "train_ds[0:3]"
   ]
  },
  {
   "cell_type": "code",
   "execution_count": 11,
   "metadata": {
    "id": "xMCBEAaMUMBo"
   },
   "outputs": [],
   "source": [
    "from torch.utils.data import DataLoader"
   ]
  },
  {
   "cell_type": "code",
   "execution_count": 12,
   "metadata": {
    "id": "9gT5cZruUaNj"
   },
   "outputs": [],
   "source": [
    "batch_size = 5\n",
    "train_d1 = DataLoader(train_ds, batch_size, shuffle= True)"
   ]
  },
  {
   "cell_type": "code",
   "execution_count": 13,
   "metadata": {
    "colab": {
     "base_uri": "https://localhost:8080/"
    },
    "id": "nrHV7iByUokc",
    "outputId": "d1dbab3e-e7a7-4c1b-d1cc-183e4757515b"
   },
   "outputs": [
    {
     "name": "stdout",
     "output_type": "stream",
     "text": [
      "tensor([[ 74.,  66.,  43.],\n",
      "        [ 68.,  97.,  70.],\n",
      "        [ 73.,  66.,  44.],\n",
      "        [102.,  43.,  37.],\n",
      "        [101.,  44.,  37.]])\n",
      "tensor([[ 57.,  69.],\n",
      "        [102., 120.],\n",
      "        [ 57.,  69.],\n",
      "        [ 22.,  37.],\n",
      "        [ 21.,  38.]])\n"
     ]
    }
   ],
   "source": [
    "for xb, yb in train_d1:\n",
    "  print(xb)\n",
    "  print(yb)\n",
    "  break"
   ]
  },
  {
   "cell_type": "code",
   "execution_count": 14,
   "metadata": {
    "colab": {
     "base_uri": "https://localhost:8080/"
    },
    "id": "qJ_PhO-PUxdw",
    "outputId": "7f332481-7ed8-484b-bb83-4c42be51424d"
   },
   "outputs": [
    {
     "name": "stdout",
     "output_type": "stream",
     "text": [
      "Parameter containing:\n",
      "tensor([[-0.3711,  0.5445,  0.3492],\n",
      "        [-0.1375, -0.0965, -0.2557]], requires_grad=True)\n",
      "Parameter containing:\n",
      "tensor([0.4163, 0.4058], requires_grad=True)\n"
     ]
    }
   ],
   "source": [
    "#nn.Linear\n",
    "#Define Model\n",
    "model = nn.Linear(3, 2)\n",
    "print(model.weight)\n",
    "print(model.bias)"
   ]
  },
  {
   "cell_type": "code",
   "execution_count": 15,
   "metadata": {
    "colab": {
     "base_uri": "https://localhost:8080/"
    },
    "id": "trc-Z4aiVprl",
    "outputId": "7888e461-fe95-4d68-df1c-145606e98fa3"
   },
   "outputs": [
    {
     "data": {
      "text/plain": [
       "[Parameter containing:\n",
       " tensor([[-0.3711,  0.5445,  0.3492],\n",
       "         [-0.1375, -0.0965, -0.2557]], requires_grad=True),\n",
       " Parameter containing:\n",
       " tensor([0.4163, 0.4058], requires_grad=True)]"
      ]
     },
     "execution_count": 15,
     "metadata": {},
     "output_type": "execute_result"
    }
   ],
   "source": [
    "#Parameters\n",
    "list(model.parameters())"
   ]
  },
  {
   "cell_type": "code",
   "execution_count": 16,
   "metadata": {
    "colab": {
     "base_uri": "https://localhost:8080/"
    },
    "id": "pqj9thBYV0HZ",
    "outputId": "1adbbe49-8a69-4176-ab05-da144a8aec0e"
   },
   "outputs": [
    {
     "data": {
      "text/plain": [
       "tensor([[ 24.8285, -27.0938],\n",
       "        [ 36.9181, -36.9660],\n",
       "        [ 61.3550, -39.3224],\n",
       "        [ -1.0960, -27.2286],\n",
       "        [ 51.5329, -36.2487],\n",
       "        [ 23.9129, -27.1347],\n",
       "        [ 36.7228, -37.1252],\n",
       "        [ 61.3331, -39.7156],\n",
       "        [ -0.1805, -27.1877],\n",
       "        [ 52.2532, -36.3670],\n",
       "        [ 24.6332, -27.2530],\n",
       "        [ 36.0025, -37.0069],\n",
       "        [ 61.5503, -39.1632],\n",
       "        [ -1.8163, -27.1103],\n",
       "        [ 52.4485, -36.2077]], grad_fn=<AddmmBackward>)"
      ]
     },
     "execution_count": 16,
     "metadata": {},
     "output_type": "execute_result"
    }
   ],
   "source": [
    "#Generate Predictions\n",
    "preds = model(inputs)\n",
    "preds"
   ]
  },
  {
   "cell_type": "code",
   "execution_count": 18,
   "metadata": {
    "id": "bvXzA0klWAtN"
   },
   "outputs": [],
   "source": [
    "#Loss function\n",
    "import torch.nn.functional as F"
   ]
  },
  {
   "cell_type": "code",
   "execution_count": 19,
   "metadata": {
    "id": "Tudyvi9ZWsAn"
   },
   "outputs": [],
   "source": [
    "#Define loss function\n",
    "loss_fn = F.mse_loss"
   ]
  },
  {
   "cell_type": "code",
   "execution_count": 20,
   "metadata": {
    "colab": {
     "base_uri": "https://localhost:8080/"
    },
    "id": "A21jcYVLW2gg",
    "outputId": "b5a12ebd-6cec-46a6-a306-068c3b9ab692"
   },
   "outputs": [
    {
     "name": "stdout",
     "output_type": "stream",
     "text": [
      "tensor(9573.8184, grad_fn=<MseLossBackward>)\n"
     ]
    }
   ],
   "source": [
    "loss = loss_fn(model(inputs), targets)\n",
    "print(loss)"
   ]
  },
  {
   "cell_type": "code",
   "execution_count": 21,
   "metadata": {
    "id": "-Kpn7Q8bW9n_"
   },
   "outputs": [],
   "source": [
    "#Optimizer\n",
    "opt = torch.optim.SGD(model.parameters(), lr= 1e-5)"
   ]
  },
  {
   "cell_type": "code",
   "execution_count": 27,
   "metadata": {
    "id": "yNO9ARqYbpsI"
   },
   "outputs": [],
   "source": [
    "#Train the model\n",
    "#Utility function to train the model\n",
    "def fit(num_epochs, model, loss_fn, opt, train_d1):\n",
    "  \n",
    "  #Repeat for given no of epochs\n",
    "  for epoch in range(num_epochs):\n",
    "    \n",
    "    #Train with batches of data\n",
    "    for xb, yb in train_d1:\n",
    "      \n",
    "      #generate prediction\n",
    "      pred = model(xb)\n",
    "\n",
    "      #Calculate loss\n",
    "      loss = loss_fn(pred, yb)\n",
    "\n",
    "      #Compute Gradients\n",
    "      loss.backward()\n",
    "\n",
    "      #Update parameters using gradients\n",
    "      opt.step()\n",
    "\n",
    "      #Reset the gradients to zero\n",
    "      opt.zero_grad()\n",
    "\n",
    "      #Print the progress\n",
    "      if(epoch+1) % 10 == 0:\n",
    "        print('epoch [{}/{}], Loss: {:.4f}'.format(epoch+1, num_epochs, loss.item()))\n"
   ]
  },
  {
   "cell_type": "code",
   "execution_count": 28,
   "metadata": {
    "colab": {
     "base_uri": "https://localhost:8080/"
    },
    "id": "qLpXEdstdbbm",
    "outputId": "7684f8f2-9b44-4252-8370-cfafb43f8972"
   },
   "outputs": [
    {
     "name": "stdout",
     "output_type": "stream",
     "text": [
      "epoch [10/100], Loss: 63.8472\n",
      "epoch [10/100], Loss: 142.7022\n",
      "epoch [10/100], Loss: 333.9593\n",
      "epoch [20/100], Loss: 91.1582\n",
      "epoch [20/100], Loss: 84.6571\n",
      "epoch [20/100], Loss: 215.0591\n",
      "epoch [30/100], Loss: 37.3962\n",
      "epoch [30/100], Loss: 92.8133\n",
      "epoch [30/100], Loss: 153.2821\n",
      "epoch [40/100], Loss: 47.7341\n",
      "epoch [40/100], Loss: 107.7182\n",
      "epoch [40/100], Loss: 64.0513\n",
      "epoch [50/100], Loss: 107.6199\n",
      "epoch [50/100], Loss: 5.4055\n",
      "epoch [50/100], Loss: 58.6785\n",
      "epoch [60/100], Loss: 27.1773\n",
      "epoch [60/100], Loss: 66.9879\n",
      "epoch [60/100], Loss: 38.5349\n",
      "epoch [70/100], Loss: 35.1636\n",
      "epoch [70/100], Loss: 48.2630\n",
      "epoch [70/100], Loss: 23.3704\n",
      "epoch [80/100], Loss: 44.1081\n",
      "epoch [80/100], Loss: 4.9098\n",
      "epoch [80/100], Loss: 40.8539\n",
      "epoch [90/100], Loss: 15.5088\n",
      "epoch [90/100], Loss: 26.7062\n",
      "epoch [90/100], Loss: 36.4822\n",
      "epoch [100/100], Loss: 10.2538\n",
      "epoch [100/100], Loss: 31.2642\n",
      "epoch [100/100], Loss: 26.9850\n"
     ]
    }
   ],
   "source": [
    "fit(100, model, loss_fn, opt, train_d1)"
   ]
  },
  {
   "cell_type": "code",
   "execution_count": 29,
   "metadata": {
    "colab": {
     "base_uri": "https://localhost:8080/"
    },
    "id": "4DgCcaBZd0yX",
    "outputId": "6433a487-38d2-4783-a820-387bad0a55cd"
   },
   "outputs": [
    {
     "data": {
      "text/plain": [
       "tensor([[ 57.4193,  71.7502],\n",
       "        [ 81.0825,  97.2758],\n",
       "        [119.6010, 137.9718],\n",
       "        [ 23.0081,  44.8635],\n",
       "        [ 99.0122, 108.7620],\n",
       "        [ 56.1941,  70.7391],\n",
       "        [ 80.7497,  96.7158],\n",
       "        [119.7999, 138.2502],\n",
       "        [ 24.2333,  45.8746],\n",
       "        [ 99.9046, 109.2130],\n",
       "        [ 57.0865,  71.1902],\n",
       "        [ 79.8573,  96.2647],\n",
       "        [119.9338, 138.5318],\n",
       "        [ 22.1157,  44.4124],\n",
       "        [100.2373, 109.7731]], grad_fn=<AddmmBackward>)"
      ]
     },
     "execution_count": 29,
     "metadata": {},
     "output_type": "execute_result"
    }
   ],
   "source": [
    "#Generate Prediction\n",
    "preds = model(inputs)\n",
    "preds"
   ]
  },
  {
   "cell_type": "code",
   "execution_count": 30,
   "metadata": {
    "colab": {
     "base_uri": "https://localhost:8080/"
    },
    "id": "k5h1PWHoenWz",
    "outputId": "7e83e7b4-a5e5-4483-bd5f-e1ce0cc4de60"
   },
   "outputs": [
    {
     "data": {
      "text/plain": [
       "tensor([[ 56.,  70.],\n",
       "        [ 81., 101.],\n",
       "        [119., 133.],\n",
       "        [ 22.,  37.],\n",
       "        [103., 119.],\n",
       "        [ 57.,  69.],\n",
       "        [ 80., 102.],\n",
       "        [118., 132.],\n",
       "        [ 21.,  38.],\n",
       "        [104., 118.],\n",
       "        [ 57.,  69.],\n",
       "        [ 82., 100.],\n",
       "        [118., 134.],\n",
       "        [ 20.,  38.],\n",
       "        [102., 120.]])"
      ]
     },
     "execution_count": 30,
     "metadata": {},
     "output_type": "execute_result"
    }
   ],
   "source": [
    "targets"
   ]
  },
  {
   "cell_type": "code",
   "execution_count": 31,
   "metadata": {
    "colab": {
     "base_uri": "https://localhost:8080/"
    },
    "id": "_yfQu9kIeoUP",
    "outputId": "48ffe01e-13e7-45c6-f3ed-61d13b4b2560"
   },
   "outputs": [
    {
     "data": {
      "text/plain": [
       "tensor([[53.7579, 68.2432]], grad_fn=<AddmmBackward>)"
      ]
     },
     "execution_count": 31,
     "metadata": {},
     "output_type": "execute_result"
    }
   ],
   "source": [
    "model(torch.tensor([[75, 63, 44.]]))"
   ]
  },
  {
   "cell_type": "code",
   "execution_count": null,
   "metadata": {
    "id": "_312hlzAfE-a"
   },
   "outputs": [],
   "source": []
  }
 ],
 "metadata": {
  "colab": {
   "name": "Linear_regression_PytorchFunction.ipynb",
   "provenance": []
  },
  "kernelspec": {
   "display_name": "Python 3",
   "language": "python",
   "name": "python3"
  },
  "language_info": {
   "codemirror_mode": {
    "name": "ipython",
    "version": 3
   },
   "file_extension": ".py",
   "mimetype": "text/x-python",
   "name": "python",
   "nbconvert_exporter": "python",
   "pygments_lexer": "ipython3",
   "version": "3.7.6"
  }
 },
 "nbformat": 4,
 "nbformat_minor": 1
}
